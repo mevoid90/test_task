{
  "nbformat": 4,
  "nbformat_minor": 0,
  "metadata": {
    "colab": {
      "provenance": [],
      "collapsed_sections": []
    },
    "kernelspec": {
      "name": "python3",
      "display_name": "Python 3"
    },
    "language_info": {
      "name": "python"
    }
  },
  "cells": [
    {
      "cell_type": "code",
      "source": [
        "import pandas as pd\n",
        "import numpy as np\n",
        "import time\n",
        "def func(arr,s):\n",
        "  result=-1 #  задаем дефолтное значение -1\n",
        "  res=[]\n",
        "  local_start_time = time.time() # записываем время начала работы\n",
        "  for i in range(0,len(arr)): \n",
        "    if res!=[]: # если нашли пару, дальше нет смысла\n",
        "      break\n",
        "    for j in range(i+1,len(arr)): # начало i-потому что нам нет смысла проверять элементы до i, так как они уже проверялись, например,(7-(-3)!=1)и нет смысла делать (7-1!=-3)...+1 потому что нет смысла сравнивать с самим собой\n",
        "      if s-arr[i]==arr[j]: # если s минус элемент равен какому то элементу в массиве, тогда записываем эти два элемента, и они есть суммой образующей s\n",
        "        res.append(arr[i]) \n",
        "        res.append(arr[j])\n",
        "        break # если нашли пару, дальше нет смысла\n",
        "  end_start_time = time.time() # записываем время конца работы\n",
        "  print('Общее время работы {s:0.9f}'.format(s=end_start_time-local_start_time))\n",
        "  if res!=[]:\n",
        "    result=res\n",
        "  return result\n",
        "\n",
        "print(func([-3, 1, 4, 6],7))\n",
        "print(func([-3, 1, 4, 6],8))\n",
        "print(func([-3, 1, 4, 6],-2))\n",
        "print(func([3, 1, 8, 6,-3, 2, 2, 6,9, 1, -4, 8,-3, 1, 4, 7,-3, 4, 1, -6,3, 2, 2, 6,9, 1, -4, -8,-3,3, 2, 2, 6,11, 4, -4, 8,-3,],19))"
      ],
      "metadata": {
        "colab": {
          "base_uri": "https://localhost:8080/"
        },
        "id": "dIeWcWRpYaQF",
        "outputId": "89c1f8d9-aa78-4338-f659-f7ebb270677d"
      },
      "execution_count": 63,
      "outputs": [
        {
          "output_type": "stream",
          "name": "stdout",
          "text": [
            "Общее время работы 0.000005722\n",
            "[1, 6]\n",
            "Общее время работы 0.000004768\n",
            "-1\n",
            "Общее время работы 0.000003338\n",
            "[-3, 1]\n",
            "Общее время работы 0.000013351\n",
            "[8, 11]\n"
          ]
        }
      ]
    }
  ]
}