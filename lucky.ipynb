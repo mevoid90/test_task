{
  "nbformat": 4,
  "nbformat_minor": 0,
  "metadata": {
    "colab": {
      "provenance": [],
      "collapsed_sections": []
    },
    "kernelspec": {
      "name": "python3",
      "display_name": "Python 3"
    },
    "language_info": {
      "name": "python"
    }
  },
  "cells": [
    {
      "cell_type": "code",
      "source": [
        "def func(data):\n",
        "  res=[]\n",
        "  temp=[]\n",
        "  f=0\n",
        "  result=0 # дефолтное значение 0\n",
        "  for char in data:\n",
        "      if((char=='5' or char=='6')): # проверяем символ, это 5 или 6 \n",
        "        temp.append(char) # добавляем в временный массив числа\n",
        "        f=1 # указываем флаг, что последовательность началась\n",
        "        if(char==data[-1]): # частный случай, когда последовательность заканчивается в строке, не сменяясь другим числом\n",
        "          res.append(temp)\n",
        "      else: \n",
        "        if (f==1): # если последовательность закончилась, и текущее число не 5 и не 6, записываем в массив массив последовательности\n",
        "          res.append(temp)\n",
        "          f=0 # обнуляем флаг, означает, что последовательность закончилась\n",
        "          temp=[] # обнуляем временный массив\n",
        "  if res!=[]:# обработка ошибки, если ничего не добавим в res\n",
        "    result_temp= res[0] # присваеиваем первый элемент\n",
        "    for rolls in res: \n",
        "      if len(rolls)>len(result_temp): # находим самую длинную последовательность\n",
        "        if ('5' in rolls) and ('6' in rolls): # обработка ошибки, если попадет последовательность из одних чисел\n",
        "          result=rolls # присваиваем result\n",
        "      else: \n",
        "        if ('5' in rolls) and ('6' in rolls): # частный случай, когда всего одна последовательность попала \n",
        "          result=result_temp # присваиваем result\n",
        "  return result\n",
        "\n",
        "print(func('4556432455665334'))\n",
        "print(func('6665777777777777777777777777743121212215'))\n",
        "print(func('45564324556653345555555555555555555555555555555522342344634345565655556665556'))\n",
        "print(func('5656556565'))\n",
        "print(func('566436'))\n",
        "print(func('55555'))\n",
        "print(func('234234524234978976123812355555576666622128'))\n",
        "print(func('222'))\n",
        "print(func('sddfsdfs'))\n"
      ],
      "metadata": {
        "colab": {
          "base_uri": "https://localhost:8080/"
        },
        "id": "qVcpUZ3_j7_y",
        "outputId": "87fc2bc3-fbef-4ce1-8cf4-1a04cf4330db"
      },
      "execution_count": 15,
      "outputs": [
        {
          "output_type": "stream",
          "name": "stdout",
          "text": [
            "['5', '5', '6', '6', '5']\n",
            "['6', '6', '6', '5']\n",
            "['5', '5', '6', '5', '6', '5', '5', '5', '5', '6', '6', '6', '5', '5', '5', '6']\n",
            "['5', '6', '5', '6', '5', '5', '6', '5', '6', '5']\n",
            "['5', '6', '6']\n",
            "0\n",
            "0\n",
            "0\n",
            "0\n"
          ]
        }
      ]
    }
  ]
}